{
  "nbformat": 4,
  "nbformat_minor": 0,
  "metadata": {
    "colab": {
      "name": "Class Methods,",
      "provenance": [],
      "collapsed_sections": [],
      "authorship_tag": "ABX9TyOhjHfB0KI9BfjPdILR8LpS",
      "include_colab_link": true
    },
    "kernelspec": {
      "name": "python3",
      "display_name": "Python 3"
    },
    "language_info": {
      "name": "python"
    }
  },
  "cells": [
    {
      "cell_type": "markdown",
      "metadata": {
        "id": "view-in-github",
        "colab_type": "text"
      },
      "source": [
        "<a href=\"https://colab.research.google.com/github/Jitendrasharma101/My-Data-science-journey-/blob/main/Class_Methods%2C.ipynb\" target=\"_parent\"><img src=\"https://colab.research.google.com/assets/colab-badge.svg\" alt=\"Open In Colab\"/></a>"
      ]
    },
    {
      "cell_type": "code",
      "execution_count": 16,
      "metadata": {
        "colab": {
          "base_uri": "https://localhost:8080/"
        },
        "id": "PdZ_sttt3u6t",
        "outputId": "edc360d3-fd05-416a-ad3b-50fdbf17b7ac"
      },
      "outputs": [
        {
          "output_type": "stream",
          "name": "stdout",
          "text": [
            "jitendra Sharma\n",
            "2000331550045\n",
            "230304034034\n",
            "Vill. Rahatpur Post-mai District-Aligarh\n",
            "Age of Student is 23\n"
          ]
        }
      ],
      "source": [
        "class student:\n",
        "  def __init__(self,name,rollno,libraryid,address):\n",
        "    self.name=name\n",
        "    self.rollno=rollno\n",
        "    self.libraryid=libraryid\n",
        "    self.address=address\n",
        "  def studentdetails(self):\n",
        "    print(self.name,self.rollno,self.libraryid,self.address,sep=\"\\n\")\n",
        "\n",
        "  @staticmethod\n",
        "  def printage(age):\n",
        "    print(\"Age of Student is\",age)\n",
        "\n",
        "s1=student(\"jitendra Sharma\",2000331550045,230304034034,\"Vill. Rahatpur Post-mai District-Aligarh\")\n",
        "\n",
        "s1.studentdetails()     \n",
        "s1.printage(23)"
      ]
    },
    {
      "cell_type": "code",
      "source": [
        ""
      ],
      "metadata": {
        "id": "5vtvEYdN-eWs"
      },
      "execution_count": null,
      "outputs": []
    }
  ]
}